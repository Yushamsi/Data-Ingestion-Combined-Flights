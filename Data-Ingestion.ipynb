{
  "nbformat": 4,
  "nbformat_minor": 0,
  "metadata": {
    "colab": {
      "provenance": [],
      "authorship_tag": "ABX9TyPSRVoBaRGxRmlp7+TXWSm4",
      "include_colab_link": true
    },
    "kernelspec": {
      "name": "python3",
      "display_name": "Python 3"
    },
    "language_info": {
      "name": "python"
    }
  },
  "cells": [
    {
      "cell_type": "markdown",
      "metadata": {
        "id": "view-in-github",
        "colab_type": "text"
      },
      "source": [
        "<a href=\"https://colab.research.google.com/github/Yushamsi/Data-Ingestion-Combined-Flights/blob/main/Data-Ingestion.ipynb\" target=\"_parent\"><img src=\"https://colab.research.google.com/assets/colab-badge.svg\" alt=\"Open In Colab\"/></a>"
      ]
    },
    {
      "cell_type": "markdown",
      "source": [
        "# Data Ingestion"
      ],
      "metadata": {
        "id": "mZJfeGJpeMi3"
      }
    },
    {
      "cell_type": "code",
      "execution_count": null,
      "metadata": {
        "id": "KmcHCAhRbq_y"
      },
      "outputs": [],
      "source": [
        "import pandas as pd\n",
        "import dask.dataframe as dd\n",
        "import modin.pandas as mpd\n",
        "import time"
      ]
    },
    {
      "cell_type": "code",
      "source": [
        "start_time = time.time()\n",
        "df_pandas = pd.read_csv('your_large_file.csv')"
      ],
      "metadata": {
        "id": "PdcUKPP1eoFI"
      },
      "execution_count": null,
      "outputs": []
    },
    {
      "cell_type": "code",
      "source": [
        "print(f\"Pandas read time: {time.time() - start_time} seconds\")"
      ],
      "metadata": {
        "id": "Q5N8eVIieqHP"
      },
      "execution_count": null,
      "outputs": []
    },
    {
      "cell_type": "code",
      "source": [
        "\n",
        "start_time = time.time()\n",
        "df_dask = dd.read_csv('your_large_file.csv')\n",
        "df_dask = df_dask.compute()  # Trigger computation to load data into memory"
      ],
      "metadata": {
        "id": "1Xvm_XyXek6-"
      },
      "execution_count": null,
      "outputs": []
    },
    {
      "cell_type": "code",
      "source": [
        "print(f\"Dask read time: {time.time() - start_time} seconds\")"
      ],
      "metadata": {
        "id": "J67q6L9lesNo"
      },
      "execution_count": null,
      "outputs": []
    },
    {
      "cell_type": "code",
      "source": [
        "start_time = time.time()\n",
        "df_modin = mpd.read_csv('your_large_file.csv')"
      ],
      "metadata": {
        "id": "VKGss1_teiU2"
      },
      "execution_count": null,
      "outputs": []
    },
    {
      "cell_type": "code",
      "source": [
        "print(f\"Modin read time: {time.time() - start_time} seconds\")"
      ],
      "metadata": {
        "id": "Oijyuu7YetwV"
      },
      "execution_count": null,
      "outputs": []
    }
  ]
}