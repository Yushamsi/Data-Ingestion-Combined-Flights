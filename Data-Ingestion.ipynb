{
  "nbformat": 4,
  "nbformat_minor": 0,
  "metadata": {
    "colab": {
      "provenance": [],
      "authorship_tag": "ABX9TyO/MAiSnuYM/25wssd7tVf9",
      "include_colab_link": true
    },
    "kernelspec": {
      "name": "python3",
      "display_name": "Python 3"
    },
    "language_info": {
      "name": "python"
    }
  },
  "cells": [
    {
      "cell_type": "markdown",
      "metadata": {
        "id": "view-in-github",
        "colab_type": "text"
      },
      "source": [
        "<a href=\"https://colab.research.google.com/github/Yushamsi/Data-Ingestion-Combined-Flights/blob/main/Data-Ingestion.ipynb\" target=\"_parent\"><img src=\"https://colab.research.google.com/assets/colab-badge.svg\" alt=\"Open In Colab\"/></a>"
      ]
    },
    {
      "cell_type": "markdown",
      "source": [
        "# *Data Ingestion*"
      ],
      "metadata": {
        "id": "mZJfeGJpeMi3"
      }
    },
    {
      "cell_type": "code",
      "execution_count": null,
      "metadata": {
        "id": "KmcHCAhRbq_y"
      },
      "outputs": [],
      "source": [
        "import pandas as pd\n",
        "import dask.dataframe as dd\n",
        "import modin.pandas as mpd\n",
        "import os\n",
        "import psutil\n",
        "import time"
      ]
    },
    {
      "cell_type": "code",
      "source": [
        "# File path\n",
        "file_path = 'your_large_file.csv'"
      ],
      "metadata": {
        "id": "JGV8gUTZhNfb"
      },
      "execution_count": null,
      "outputs": []
    },
    {
      "cell_type": "markdown",
      "source": [
        "## Reading the file"
      ],
      "metadata": {
        "id": "8EnalQajiw8n"
      }
    },
    {
      "cell_type": "code",
      "source": [
        "# Function to measure CPU and memory usage\n",
        "def measure_usage(library_name, read_function, file_path):\n",
        "    # Measure before reading\n",
        "    start_cpu = psutil.cpu_percent(interval=1)\n",
        "    start_memory = psutil.virtual_memory().used / (1024 ** 3)  # Convert to GB\n",
        "    start_time = time.time()\n",
        "\n",
        "    # Read file\n",
        "    df = read_function(file_path)\n",
        "\n",
        "    # Measure after reading\n",
        "    end_cpu = psutil.cpu_percent(interval=1)\n",
        "    end_memory = psutil.virtual_memory().used / (1024 ** 3)  # Convert to GB\n",
        "    end_time = time.time()\n",
        "\n",
        "    # Calculate differences\n",
        "    cpu_usage = end_cpu - start_cpu\n",
        "    memory_usage = end_memory - start_memory\n",
        "    read_time_seconds = end_time - start_time\n",
        "    read_time_minutes = read_time_seconds / 60\n",
        "\n",
        "    # Print results\n",
        "    print(f\"{library_name} read time: {read_time_seconds:.2f} seconds ({read_time_minutes:.2f} minutes)\")\n",
        "    print(f\"{library_name} CPU usage change: {cpu_usage:.2f}%\")\n",
        "    print(f\"{library_name} Memory usage change: {memory_usage:.2f} GB\")"
      ],
      "metadata": {
        "id": "Zkhfv54OhH-R"
      },
      "execution_count": null,
      "outputs": []
    },
    {
      "cell_type": "markdown",
      "source": [
        "Reading with Pandas"
      ],
      "metadata": {
        "id": "LOdTT0ADfoAd"
      }
    },
    {
      "cell_type": "code",
      "source": [
        "# Measure Pandas\n",
        "measure_usage(\"Pandas\", pd.read_csv, file_path)"
      ],
      "metadata": {
        "id": "PdcUKPP1eoFI"
      },
      "execution_count": null,
      "outputs": []
    },
    {
      "cell_type": "markdown",
      "source": [
        "Reading with Dask\n"
      ],
      "metadata": {
        "id": "YVV7WDMHfuig"
      }
    },
    {
      "cell_type": "code",
      "source": [
        "# For Dask since the actual data loading operation (like converting to pandas DataFrame) happens when you perform an action (like compute for Dask), the direct approach works differently.\n",
        "# For these, typically need to wrap the operation in a function if you're doing more than just reading.\n",
        "measure_usage(\"Dask\", lambda file: dd.read_csv(file).compute(), file_path)"
      ],
      "metadata": {
        "id": "1Xvm_XyXek6-"
      },
      "execution_count": null,
      "outputs": []
    },
    {
      "cell_type": "markdown",
      "source": [
        "Reading with Modin (Pandas on Ray)"
      ],
      "metadata": {
        "id": "BCrATr0bfzY3"
      }
    },
    {
      "cell_type": "code",
      "source": [
        "# Modin with Ray\n",
        "os.environ[\"MODIN_ENGINE\"] = \"ray\"  # Use Ray as the backend\n",
        "measure_usage(\"Modin Ray\", mpd.read_csv, file_path)\n"
      ],
      "metadata": {
        "id": "VKGss1_teiU2"
      },
      "execution_count": null,
      "outputs": []
    },
    {
      "cell_type": "markdown",
      "source": [
        "Reading with Modin (Pandas on Ray)"
      ],
      "metadata": {
        "id": "QZOSbnvVf6xR"
      }
    },
    {
      "cell_type": "code",
      "source": [
        "# Modin with Dask\n",
        "os.environ[\"MODIN_ENGINE\"] = \"dask\"  # Use Dask as the backend\n",
        "measure_usage(\"Modin Dask\", mpd.read_csv, file_path)"
      ],
      "metadata": {
        "id": "_U07U4XBfWG6"
      },
      "execution_count": null,
      "outputs": []
    }
  ]
}