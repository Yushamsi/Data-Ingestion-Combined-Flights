{
  "cells": [
    {
      "cell_type": "markdown",
      "metadata": {
        "colab_type": "text",
        "id": "view-in-github"
      },
      "source": [
        "<a href=\"https://colab.research.google.com/github/Yushamsi/Data-Ingestion-Combined-Flights/blob/main/Data-Ingestion.ipynb\" target=\"_parent\"><img src=\"https://colab.research.google.com/assets/colab-badge.svg\" alt=\"Open In Colab\"/></a>"
      ]
    },
    {
      "cell_type": "markdown",
      "metadata": {
        "id": "mZJfeGJpeMi3"
      },
      "source": [
        "# *Data Ingestion*"
      ]
    },
    {
      "cell_type": "code",
      "execution_count": 1,
      "metadata": {},
      "outputs": [
        {
          "name": "stdout",
          "output_type": "stream",
          "text": [
            "zsh:1: no matches found: dask[dataframe]\n"
          ]
        },
        {
          "name": "stdout",
          "output_type": "stream",
          "text": [
            "Looking in indexes: https://pypi.org/simple, https://pypi.ngc.nvidia.com\n",
            "Requirement already satisfied: dask[dataframe] in /Users/Yusuf/PycharmProjects/Venv1/lib/python3.11/site-packages (2024.2.1)\n",
            "Requirement already satisfied: click>=8.1 in /Users/Yusuf/PycharmProjects/Venv1/lib/python3.11/site-packages (from dask[dataframe]) (8.1.3)\n",
            "Requirement already satisfied: cloudpickle>=1.5.0 in /Users/Yusuf/PycharmProjects/Venv1/lib/python3.11/site-packages (from dask[dataframe]) (2.2.1)\n",
            "Requirement already satisfied: fsspec>=2021.09.0 in /Users/Yusuf/PycharmProjects/Venv1/lib/python3.11/site-packages (from dask[dataframe]) (2023.3.0)\n",
            "Requirement already satisfied: packaging>=20.0 in /Users/Yusuf/PycharmProjects/Venv1/lib/python3.11/site-packages (from dask[dataframe]) (21.3)\n",
            "Requirement already satisfied: partd>=1.2.0 in /Users/Yusuf/PycharmProjects/Venv1/lib/python3.11/site-packages (from dask[dataframe]) (1.4.1)\n",
            "Requirement already satisfied: pyyaml>=5.3.1 in /Users/Yusuf/PycharmProjects/Venv1/lib/python3.11/site-packages (from dask[dataframe]) (6.0)\n",
            "Requirement already satisfied: toolz>=0.10.0 in /Users/Yusuf/PycharmProjects/Venv1/lib/python3.11/site-packages (from dask[dataframe]) (0.12.1)\n",
            "Requirement already satisfied: importlib-metadata>=4.13.0 in /Users/Yusuf/PycharmProjects/Venv1/lib/python3.11/site-packages (from dask[dataframe]) (7.0.1)\n",
            "Requirement already satisfied: pandas>=1.3 in /Users/Yusuf/PycharmProjects/Venv1/lib/python3.11/site-packages (from dask[dataframe]) (2.2.1)\n",
            "Requirement already satisfied: zipp>=0.5 in /Users/Yusuf/PycharmProjects/Venv1/lib/python3.11/site-packages (from importlib-metadata>=4.13.0->dask[dataframe]) (3.17.0)\n",
            "Requirement already satisfied: pyparsing!=3.0.5,>=2.0.2 in /Users/Yusuf/PycharmProjects/Venv1/lib/python3.11/site-packages (from packaging>=20.0->dask[dataframe]) (3.0.9)\n",
            "Requirement already satisfied: numpy<2,>=1.23.2 in /Users/Yusuf/PycharmProjects/Venv1/lib/python3.11/site-packages (from pandas>=1.3->dask[dataframe]) (1.23.4)\n",
            "Requirement already satisfied: python-dateutil>=2.8.2 in /Users/Yusuf/PycharmProjects/Venv1/lib/python3.11/site-packages (from pandas>=1.3->dask[dataframe]) (2.8.2)\n",
            "Requirement already satisfied: pytz>=2020.1 in /Users/Yusuf/PycharmProjects/Venv1/lib/python3.11/site-packages (from pandas>=1.3->dask[dataframe]) (2022.6)\n",
            "Requirement already satisfied: tzdata>=2022.7 in /Users/Yusuf/PycharmProjects/Venv1/lib/python3.11/site-packages (from pandas>=1.3->dask[dataframe]) (2024.1)\n",
            "Requirement already satisfied: locket in /Users/Yusuf/PycharmProjects/Venv1/lib/python3.11/site-packages (from partd>=1.2.0->dask[dataframe]) (1.0.0)\n",
            "Requirement already satisfied: six>=1.5 in /Users/Yusuf/PycharmProjects/Venv1/lib/python3.11/site-packages (from python-dateutil>=2.8.2->pandas>=1.3->dask[dataframe]) (1.16.0)\n",
            "\u001b[33mDEPRECATION: colab 1.13.5 has a non-standard dependency specifier pytz>=2011n. pip 24.1 will enforce this behaviour change. A possible replacement is to upgrade to a newer version of colab or contact the author to suggest that they release a version with a conforming dependency specifiers. Discussion can be found at https://github.com/pypa/pip/issues/12063\u001b[0m\u001b[33m\n",
            "\u001b[0mLooking in indexes: https://pypi.org/simple, https://pypi.ngc.nvidia.com\n",
            "Requirement already satisfied: modin[ray] in /Users/Yusuf/PycharmProjects/Venv1/lib/python3.11/site-packages (0.27.0)\n",
            "Requirement already satisfied: pandas<2.3,>=2.2 in /Users/Yusuf/PycharmProjects/Venv1/lib/python3.11/site-packages (from modin[ray]) (2.2.1)\n",
            "Requirement already satisfied: packaging>=21.0 in /Users/Yusuf/PycharmProjects/Venv1/lib/python3.11/site-packages (from modin[ray]) (21.3)\n",
            "Requirement already satisfied: numpy>=1.22.4 in /Users/Yusuf/PycharmProjects/Venv1/lib/python3.11/site-packages (from modin[ray]) (1.23.4)\n",
            "Requirement already satisfied: fsspec>=2022.11.0 in /Users/Yusuf/PycharmProjects/Venv1/lib/python3.11/site-packages (from modin[ray]) (2023.3.0)\n",
            "Requirement already satisfied: psutil>=5.8.0 in /Users/Yusuf/PycharmProjects/Venv1/lib/python3.11/site-packages (from modin[ray]) (5.9.4)\n",
            "Requirement already satisfied: ray!=2.5.0,>=1.13.0 in /Users/Yusuf/PycharmProjects/Venv1/lib/python3.11/site-packages (from ray[default]!=2.5.0,>=1.13.0; extra == \"ray\"->modin[ray]) (2.9.3)\n",
            "Requirement already satisfied: pyarrow>=7.0.0 in /Users/Yusuf/PycharmProjects/Venv1/lib/python3.11/site-packages (from modin[ray]) (11.0.0)\n",
            "Requirement already satisfied: pyparsing!=3.0.5,>=2.0.2 in /Users/Yusuf/PycharmProjects/Venv1/lib/python3.11/site-packages (from packaging>=21.0->modin[ray]) (3.0.9)\n",
            "Requirement already satisfied: python-dateutil>=2.8.2 in /Users/Yusuf/PycharmProjects/Venv1/lib/python3.11/site-packages (from pandas<2.3,>=2.2->modin[ray]) (2.8.2)\n",
            "Requirement already satisfied: pytz>=2020.1 in /Users/Yusuf/PycharmProjects/Venv1/lib/python3.11/site-packages (from pandas<2.3,>=2.2->modin[ray]) (2022.6)\n",
            "Requirement already satisfied: tzdata>=2022.7 in /Users/Yusuf/PycharmProjects/Venv1/lib/python3.11/site-packages (from pandas<2.3,>=2.2->modin[ray]) (2024.1)\n",
            "Requirement already satisfied: click>=7.0 in /Users/Yusuf/PycharmProjects/Venv1/lib/python3.11/site-packages (from ray!=2.5.0,>=1.13.0->ray[default]!=2.5.0,>=1.13.0; extra == \"ray\"->modin[ray]) (8.1.3)\n",
            "Requirement already satisfied: filelock in /Users/Yusuf/PycharmProjects/Venv1/lib/python3.11/site-packages (from ray!=2.5.0,>=1.13.0->ray[default]!=2.5.0,>=1.13.0; extra == \"ray\"->modin[ray]) (3.13.1)\n",
            "Requirement already satisfied: jsonschema in /Users/Yusuf/PycharmProjects/Venv1/lib/python3.11/site-packages (from ray!=2.5.0,>=1.13.0->ray[default]!=2.5.0,>=1.13.0; extra == \"ray\"->modin[ray]) (4.17.0)\n",
            "Requirement already satisfied: msgpack<2.0.0,>=1.0.0 in /Users/Yusuf/PycharmProjects/Venv1/lib/python3.11/site-packages (from ray!=2.5.0,>=1.13.0->ray[default]!=2.5.0,>=1.13.0; extra == \"ray\"->modin[ray]) (1.0.7)\n",
            "Requirement already satisfied: protobuf!=3.19.5,>=3.15.3 in /Users/Yusuf/PycharmProjects/Venv1/lib/python3.11/site-packages (from ray!=2.5.0,>=1.13.0->ray[default]!=2.5.0,>=1.13.0; extra == \"ray\"->modin[ray]) (4.21.10)\n",
            "Requirement already satisfied: pyyaml in /Users/Yusuf/PycharmProjects/Venv1/lib/python3.11/site-packages (from ray!=2.5.0,>=1.13.0->ray[default]!=2.5.0,>=1.13.0; extra == \"ray\"->modin[ray]) (6.0)\n",
            "Requirement already satisfied: aiosignal in /Users/Yusuf/PycharmProjects/Venv1/lib/python3.11/site-packages (from ray!=2.5.0,>=1.13.0->ray[default]!=2.5.0,>=1.13.0; extra == \"ray\"->modin[ray]) (1.3.1)\n",
            "Requirement already satisfied: frozenlist in /Users/Yusuf/PycharmProjects/Venv1/lib/python3.11/site-packages (from ray!=2.5.0,>=1.13.0->ray[default]!=2.5.0,>=1.13.0; extra == \"ray\"->modin[ray]) (1.3.3)\n",
            "Requirement already satisfied: requests in /Users/Yusuf/PycharmProjects/Venv1/lib/python3.11/site-packages (from ray!=2.5.0,>=1.13.0->ray[default]!=2.5.0,>=1.13.0; extra == \"ray\"->modin[ray]) (2.28.1)\n",
            "Requirement already satisfied: aiohttp>=3.7 in /Users/Yusuf/PycharmProjects/Venv1/lib/python3.11/site-packages (from ray[default]!=2.5.0,>=1.13.0; extra == \"ray\"->modin[ray]) (3.8.4)\n",
            "Requirement already satisfied: aiohttp-cors in /Users/Yusuf/PycharmProjects/Venv1/lib/python3.11/site-packages (from ray[default]!=2.5.0,>=1.13.0; extra == \"ray\"->modin[ray]) (0.7.0)\n",
            "Requirement already satisfied: colorful in /Users/Yusuf/PycharmProjects/Venv1/lib/python3.11/site-packages (from ray[default]!=2.5.0,>=1.13.0; extra == \"ray\"->modin[ray]) (0.5.6)\n",
            "Requirement already satisfied: py-spy>=0.2.0 in /Users/Yusuf/PycharmProjects/Venv1/lib/python3.11/site-packages (from ray[default]!=2.5.0,>=1.13.0; extra == \"ray\"->modin[ray]) (0.3.14)\n",
            "Requirement already satisfied: gpustat>=1.0.0 in /Users/Yusuf/PycharmProjects/Venv1/lib/python3.11/site-packages (from ray[default]!=2.5.0,>=1.13.0; extra == \"ray\"->modin[ray]) (1.1.1)\n",
            "Requirement already satisfied: opencensus in /Users/Yusuf/PycharmProjects/Venv1/lib/python3.11/site-packages (from ray[default]!=2.5.0,>=1.13.0; extra == \"ray\"->modin[ray]) (0.11.4)\n",
            "Requirement already satisfied: pydantic!=2.0.*,!=2.1.*,!=2.2.*,!=2.3.*,!=2.4.*,<3 in /Users/Yusuf/PycharmProjects/Venv1/lib/python3.11/site-packages (from ray[default]!=2.5.0,>=1.13.0; extra == \"ray\"->modin[ray]) (2.6.2)\n",
            "Requirement already satisfied: prometheus-client>=0.7.1 in /Users/Yusuf/PycharmProjects/Venv1/lib/python3.11/site-packages (from ray[default]!=2.5.0,>=1.13.0; extra == \"ray\"->modin[ray]) (0.15.0)\n",
            "Requirement already satisfied: smart-open in /Users/Yusuf/PycharmProjects/Venv1/lib/python3.11/site-packages (from ray[default]!=2.5.0,>=1.13.0; extra == \"ray\"->modin[ray]) (6.4.0)\n",
            "Requirement already satisfied: virtualenv!=20.21.1,>=20.0.24 in /Users/Yusuf/PycharmProjects/Venv1/lib/python3.11/site-packages (from ray[default]!=2.5.0,>=1.13.0; extra == \"ray\"->modin[ray]) (20.25.1)\n",
            "Requirement already satisfied: grpcio>=1.42.0 in /Users/Yusuf/PycharmProjects/Venv1/lib/python3.11/site-packages (from ray[default]!=2.5.0,>=1.13.0; extra == \"ray\"->modin[ray]) (1.62.0)\n",
            "Requirement already satisfied: attrs>=17.3.0 in /Users/Yusuf/PycharmProjects/Venv1/lib/python3.11/site-packages (from aiohttp>=3.7->ray[default]!=2.5.0,>=1.13.0; extra == \"ray\"->modin[ray]) (22.1.0)\n",
            "Requirement already satisfied: charset-normalizer<4.0,>=2.0 in /Users/Yusuf/PycharmProjects/Venv1/lib/python3.11/site-packages (from aiohttp>=3.7->ray[default]!=2.5.0,>=1.13.0; extra == \"ray\"->modin[ray]) (2.1.1)\n",
            "Requirement already satisfied: multidict<7.0,>=4.5 in /Users/Yusuf/PycharmProjects/Venv1/lib/python3.11/site-packages (from aiohttp>=3.7->ray[default]!=2.5.0,>=1.13.0; extra == \"ray\"->modin[ray]) (6.0.4)\n",
            "Requirement already satisfied: async-timeout<5.0,>=4.0.0a3 in /Users/Yusuf/PycharmProjects/Venv1/lib/python3.11/site-packages (from aiohttp>=3.7->ray[default]!=2.5.0,>=1.13.0; extra == \"ray\"->modin[ray]) (4.0.2)\n",
            "Requirement already satisfied: yarl<2.0,>=1.0 in /Users/Yusuf/PycharmProjects/Venv1/lib/python3.11/site-packages (from aiohttp>=3.7->ray[default]!=2.5.0,>=1.13.0; extra == \"ray\"->modin[ray]) (1.8.2)\n",
            "Requirement already satisfied: nvidia-ml-py>=11.450.129 in /Users/Yusuf/PycharmProjects/Venv1/lib/python3.11/site-packages (from gpustat>=1.0.0->ray[default]!=2.5.0,>=1.13.0; extra == \"ray\"->modin[ray]) (12.535.133)\n",
            "Requirement already satisfied: blessed>=1.17.1 in /Users/Yusuf/PycharmProjects/Venv1/lib/python3.11/site-packages (from gpustat>=1.0.0->ray[default]!=2.5.0,>=1.13.0; extra == \"ray\"->modin[ray]) (1.20.0)\n",
            "Requirement already satisfied: annotated-types>=0.4.0 in /Users/Yusuf/PycharmProjects/Venv1/lib/python3.11/site-packages (from pydantic!=2.0.*,!=2.1.*,!=2.2.*,!=2.3.*,!=2.4.*,<3->ray[default]!=2.5.0,>=1.13.0; extra == \"ray\"->modin[ray]) (0.6.0)\n",
            "Requirement already satisfied: pydantic-core==2.16.3 in /Users/Yusuf/PycharmProjects/Venv1/lib/python3.11/site-packages (from pydantic!=2.0.*,!=2.1.*,!=2.2.*,!=2.3.*,!=2.4.*,<3->ray[default]!=2.5.0,>=1.13.0; extra == \"ray\"->modin[ray]) (2.16.3)\n",
            "Requirement already satisfied: typing-extensions>=4.6.1 in /Users/Yusuf/PycharmProjects/Venv1/lib/python3.11/site-packages (from pydantic!=2.0.*,!=2.1.*,!=2.2.*,!=2.3.*,!=2.4.*,<3->ray[default]!=2.5.0,>=1.13.0; extra == \"ray\"->modin[ray]) (4.9.0)\n",
            "Requirement already satisfied: six>=1.5 in /Users/Yusuf/PycharmProjects/Venv1/lib/python3.11/site-packages (from python-dateutil>=2.8.2->pandas<2.3,>=2.2->modin[ray]) (1.16.0)\n",
            "Requirement already satisfied: distlib<1,>=0.3.7 in /Users/Yusuf/PycharmProjects/Venv1/lib/python3.11/site-packages (from virtualenv!=20.21.1,>=20.0.24->ray[default]!=2.5.0,>=1.13.0; extra == \"ray\"->modin[ray]) (0.3.8)\n",
            "Requirement already satisfied: platformdirs<5,>=3.9.1 in /Users/Yusuf/PycharmProjects/Venv1/lib/python3.11/site-packages (from virtualenv!=20.21.1,>=20.0.24->ray[default]!=2.5.0,>=1.13.0; extra == \"ray\"->modin[ray]) (4.2.0)\n",
            "Requirement already satisfied: pyrsistent!=0.17.0,!=0.17.1,!=0.17.2,>=0.14.0 in /Users/Yusuf/PycharmProjects/Venv1/lib/python3.11/site-packages (from jsonschema->ray!=2.5.0,>=1.13.0->ray[default]!=2.5.0,>=1.13.0; extra == \"ray\"->modin[ray]) (0.19.2)\n",
            "Requirement already satisfied: opencensus-context>=0.1.3 in /Users/Yusuf/PycharmProjects/Venv1/lib/python3.11/site-packages (from opencensus->ray[default]!=2.5.0,>=1.13.0; extra == \"ray\"->modin[ray]) (0.1.3)\n",
            "Requirement already satisfied: google-api-core<3.0.0,>=1.0.0 in /Users/Yusuf/PycharmProjects/Venv1/lib/python3.11/site-packages (from opencensus->ray[default]!=2.5.0,>=1.13.0; extra == \"ray\"->modin[ray]) (2.11.0)\n",
            "Requirement already satisfied: idna<4,>=2.5 in /Users/Yusuf/PycharmProjects/Venv1/lib/python3.11/site-packages (from requests->ray!=2.5.0,>=1.13.0->ray[default]!=2.5.0,>=1.13.0; extra == \"ray\"->modin[ray]) (3.4)\n",
            "Requirement already satisfied: urllib3<1.27,>=1.21.1 in /Users/Yusuf/PycharmProjects/Venv1/lib/python3.11/site-packages (from requests->ray!=2.5.0,>=1.13.0->ray[default]!=2.5.0,>=1.13.0; extra == \"ray\"->modin[ray]) (1.26.13)\n",
            "Requirement already satisfied: certifi>=2017.4.17 in /Users/Yusuf/PycharmProjects/Venv1/lib/python3.11/site-packages (from requests->ray!=2.5.0,>=1.13.0->ray[default]!=2.5.0,>=1.13.0; extra == \"ray\"->modin[ray]) (2022.9.24)\n",
            "Requirement already satisfied: wcwidth>=0.1.4 in /Users/Yusuf/PycharmProjects/Venv1/lib/python3.11/site-packages (from blessed>=1.17.1->gpustat>=1.0.0->ray[default]!=2.5.0,>=1.13.0; extra == \"ray\"->modin[ray]) (0.2.5)\n",
            "Requirement already satisfied: googleapis-common-protos<2.0dev,>=1.56.2 in /Users/Yusuf/PycharmProjects/Venv1/lib/python3.11/site-packages (from google-api-core<3.0.0,>=1.0.0->opencensus->ray[default]!=2.5.0,>=1.13.0; extra == \"ray\"->modin[ray]) (1.57.0)\n",
            "Requirement already satisfied: google-auth<3.0dev,>=2.14.1 in /Users/Yusuf/PycharmProjects/Venv1/lib/python3.11/site-packages (from google-api-core<3.0.0,>=1.0.0->opencensus->ray[default]!=2.5.0,>=1.13.0; extra == \"ray\"->modin[ray]) (2.15.0)\n",
            "Requirement already satisfied: cachetools<6.0,>=2.0.0 in /Users/Yusuf/PycharmProjects/Venv1/lib/python3.11/site-packages (from google-auth<3.0dev,>=2.14.1->google-api-core<3.0.0,>=1.0.0->opencensus->ray[default]!=2.5.0,>=1.13.0; extra == \"ray\"->modin[ray]) (5.2.0)\n",
            "Requirement already satisfied: pyasn1-modules>=0.2.1 in /Users/Yusuf/PycharmProjects/Venv1/lib/python3.11/site-packages (from google-auth<3.0dev,>=2.14.1->google-api-core<3.0.0,>=1.0.0->opencensus->ray[default]!=2.5.0,>=1.13.0; extra == \"ray\"->modin[ray]) (0.2.8)\n",
            "Requirement already satisfied: rsa<5,>=3.1.4 in /Users/Yusuf/PycharmProjects/Venv1/lib/python3.11/site-packages (from google-auth<3.0dev,>=2.14.1->google-api-core<3.0.0,>=1.0.0->opencensus->ray[default]!=2.5.0,>=1.13.0; extra == \"ray\"->modin[ray]) (4.9)\n",
            "Requirement already satisfied: pyasn1<0.5.0,>=0.4.6 in /Users/Yusuf/PycharmProjects/Venv1/lib/python3.11/site-packages (from pyasn1-modules>=0.2.1->google-auth<3.0dev,>=2.14.1->google-api-core<3.0.0,>=1.0.0->opencensus->ray[default]!=2.5.0,>=1.13.0; extra == \"ray\"->modin[ray]) (0.4.8)\n",
            "\u001b[33mDEPRECATION: colab 1.13.5 has a non-standard dependency specifier pytz>=2011n. pip 24.1 will enforce this behaviour change. A possible replacement is to upgrade to a newer version of colab or contact the author to suggest that they release a version with a conforming dependency specifiers. Discussion can be found at https://github.com/pypa/pip/issues/12063\u001b[0m\u001b[33m\n",
            "\u001b[0mLooking in indexes: https://pypi.org/simple, https://pypi.ngc.nvidia.com\n",
            "Requirement already satisfied: psutil in /Users/Yusuf/PycharmProjects/Venv1/lib/python3.11/site-packages (5.9.4)\n",
            "\u001b[33mDEPRECATION: colab 1.13.5 has a non-standard dependency specifier pytz>=2011n. pip 24.1 will enforce this behaviour change. A possible replacement is to upgrade to a newer version of colab or contact the author to suggest that they release a version with a conforming dependency specifiers. Discussion can be found at https://github.com/pypa/pip/issues/12063\u001b[0m\u001b[33m\n",
            "\u001b[0mLooking in indexes: https://pypi.org/simple, https://pypi.ngc.nvidia.com\n",
            "Requirement already satisfied: pyyaml in /Users/Yusuf/PycharmProjects/Venv1/lib/python3.11/site-packages (6.0)\n",
            "\u001b[33mDEPRECATION: colab 1.13.5 has a non-standard dependency specifier pytz>=2011n. pip 24.1 will enforce this behaviour change. A possible replacement is to upgrade to a newer version of colab or contact the author to suggest that they release a version with a conforming dependency specifiers. Discussion can be found at https://github.com/pypa/pip/issues/12063\u001b[0m\u001b[33m\n",
            "\u001b[0mLooking in indexes: https://pypi.org/simple, https://pypi.ngc.nvidia.com\n",
            "Requirement already satisfied: dask-expr in /Users/Yusuf/PycharmProjects/Venv1/lib/python3.11/site-packages (0.5.1)\n",
            "Requirement already satisfied: dask==2024.2.1 in /Users/Yusuf/PycharmProjects/Venv1/lib/python3.11/site-packages (from dask-expr) (2024.2.1)\n",
            "Requirement already satisfied: pyarrow in /Users/Yusuf/PycharmProjects/Venv1/lib/python3.11/site-packages (from dask-expr) (11.0.0)\n",
            "Requirement already satisfied: pandas>=2 in /Users/Yusuf/PycharmProjects/Venv1/lib/python3.11/site-packages (from dask-expr) (2.2.1)\n",
            "Requirement already satisfied: click>=8.1 in /Users/Yusuf/PycharmProjects/Venv1/lib/python3.11/site-packages (from dask==2024.2.1->dask-expr) (8.1.3)\n",
            "Requirement already satisfied: cloudpickle>=1.5.0 in /Users/Yusuf/PycharmProjects/Venv1/lib/python3.11/site-packages (from dask==2024.2.1->dask-expr) (2.2.1)\n",
            "Requirement already satisfied: fsspec>=2021.09.0 in /Users/Yusuf/PycharmProjects/Venv1/lib/python3.11/site-packages (from dask==2024.2.1->dask-expr) (2023.3.0)\n",
            "Requirement already satisfied: packaging>=20.0 in /Users/Yusuf/PycharmProjects/Venv1/lib/python3.11/site-packages (from dask==2024.2.1->dask-expr) (21.3)\n",
            "Requirement already satisfied: partd>=1.2.0 in /Users/Yusuf/PycharmProjects/Venv1/lib/python3.11/site-packages (from dask==2024.2.1->dask-expr) (1.4.1)\n",
            "Requirement already satisfied: pyyaml>=5.3.1 in /Users/Yusuf/PycharmProjects/Venv1/lib/python3.11/site-packages (from dask==2024.2.1->dask-expr) (6.0)\n",
            "Requirement already satisfied: toolz>=0.10.0 in /Users/Yusuf/PycharmProjects/Venv1/lib/python3.11/site-packages (from dask==2024.2.1->dask-expr) (0.12.1)\n",
            "Requirement already satisfied: importlib-metadata>=4.13.0 in /Users/Yusuf/PycharmProjects/Venv1/lib/python3.11/site-packages (from dask==2024.2.1->dask-expr) (7.0.1)\n",
            "Requirement already satisfied: numpy<2,>=1.23.2 in /Users/Yusuf/PycharmProjects/Venv1/lib/python3.11/site-packages (from pandas>=2->dask-expr) (1.23.4)\n",
            "Requirement already satisfied: python-dateutil>=2.8.2 in /Users/Yusuf/PycharmProjects/Venv1/lib/python3.11/site-packages (from pandas>=2->dask-expr) (2.8.2)\n",
            "Requirement already satisfied: pytz>=2020.1 in /Users/Yusuf/PycharmProjects/Venv1/lib/python3.11/site-packages (from pandas>=2->dask-expr) (2022.6)\n",
            "Requirement already satisfied: tzdata>=2022.7 in /Users/Yusuf/PycharmProjects/Venv1/lib/python3.11/site-packages (from pandas>=2->dask-expr) (2024.1)\n",
            "Requirement already satisfied: zipp>=0.5 in /Users/Yusuf/PycharmProjects/Venv1/lib/python3.11/site-packages (from importlib-metadata>=4.13.0->dask==2024.2.1->dask-expr) (3.17.0)\n",
            "Requirement already satisfied: pyparsing!=3.0.5,>=2.0.2 in /Users/Yusuf/PycharmProjects/Venv1/lib/python3.11/site-packages (from packaging>=20.0->dask==2024.2.1->dask-expr) (3.0.9)\n",
            "Requirement already satisfied: locket in /Users/Yusuf/PycharmProjects/Venv1/lib/python3.11/site-packages (from partd>=1.2.0->dask==2024.2.1->dask-expr) (1.0.0)\n",
            "Requirement already satisfied: six>=1.5 in /Users/Yusuf/PycharmProjects/Venv1/lib/python3.11/site-packages (from python-dateutil>=2.8.2->pandas>=2->dask-expr) (1.16.0)\n",
            "\u001b[33mDEPRECATION: colab 1.13.5 has a non-standard dependency specifier pytz>=2011n. pip 24.1 will enforce this behaviour change. A possible replacement is to upgrade to a newer version of colab or contact the author to suggest that they release a version with a conforming dependency specifiers. Discussion can be found at https://github.com/pypa/pip/issues/12063\u001b[0m\u001b[33m\n",
            "\u001b[0mLooking in indexes: https://pypi.org/simple, https://pypi.ngc.nvidia.com\n",
            "Requirement already satisfied: kaggle in /Users/Yusuf/PycharmProjects/Venv1/lib/python3.11/site-packages (1.6.6)\n",
            "Requirement already satisfied: six>=1.10 in /Users/Yusuf/PycharmProjects/Venv1/lib/python3.11/site-packages (from kaggle) (1.16.0)\n",
            "Requirement already satisfied: certifi in /Users/Yusuf/PycharmProjects/Venv1/lib/python3.11/site-packages (from kaggle) (2022.9.24)\n",
            "Requirement already satisfied: python-dateutil in /Users/Yusuf/PycharmProjects/Venv1/lib/python3.11/site-packages (from kaggle) (2.8.2)\n",
            "Requirement already satisfied: requests in /Users/Yusuf/PycharmProjects/Venv1/lib/python3.11/site-packages (from kaggle) (2.28.1)\n",
            "Requirement already satisfied: tqdm in /Users/Yusuf/PycharmProjects/Venv1/lib/python3.11/site-packages (from kaggle) (4.64.1)\n",
            "Requirement already satisfied: python-slugify in /Users/Yusuf/PycharmProjects/Venv1/lib/python3.11/site-packages (from kaggle) (8.0.4)\n",
            "Requirement already satisfied: urllib3 in /Users/Yusuf/PycharmProjects/Venv1/lib/python3.11/site-packages (from kaggle) (1.26.13)\n",
            "Requirement already satisfied: bleach in /Users/Yusuf/PycharmProjects/Venv1/lib/python3.11/site-packages (from kaggle) (5.0.1)\n",
            "Requirement already satisfied: webencodings in /Users/Yusuf/PycharmProjects/Venv1/lib/python3.11/site-packages (from bleach->kaggle) (0.5.1)\n",
            "Requirement already satisfied: text-unidecode>=1.3 in /Users/Yusuf/PycharmProjects/Venv1/lib/python3.11/site-packages (from python-slugify->kaggle) (1.3)\n",
            "Requirement already satisfied: charset-normalizer<3,>=2 in /Users/Yusuf/PycharmProjects/Venv1/lib/python3.11/site-packages (from requests->kaggle) (2.1.1)\n",
            "Requirement already satisfied: idna<4,>=2.5 in /Users/Yusuf/PycharmProjects/Venv1/lib/python3.11/site-packages (from requests->kaggle) (3.4)\n",
            "\u001b[33mDEPRECATION: colab 1.13.5 has a non-standard dependency specifier pytz>=2011n. pip 24.1 will enforce this behaviour change. A possible replacement is to upgrade to a newer version of colab or contact the author to suggest that they release a version with a conforming dependency specifiers. Discussion can be found at https://github.com/pypa/pip/issues/12063\u001b[0m\u001b[33m\n",
            "\u001b[0m"
          ]
        }
      ],
      "source": [
        "!pip install dask[dataframe]  # Installing Dask with dataframe support\n",
        "!pip install \"dask[dataframe]\"\n",
        "!pip install \"modin[ray]\"  # This will install Modin with Ray as a dependency; you can use \"modin[dask]\" if you prefer Dask\n",
        "!pip install psutil\n",
        "!pip install pyyaml  # For yaml support\n",
        "!pip install dask-expr\n",
        "\n",
        "!pip install kaggle\n"
      ]
    },
    {
      "cell_type": "code",
      "execution_count": 2,
      "metadata": {},
      "outputs": [],
      "source": [
        "# from google.colab import files\n",
        "# files.upload()  # Upload the kaggle.json file\n",
        "\n",
        "# !mkdir -p ~/.kaggle\n",
        "# !mv kaggle.json ~/.kaggle/\n",
        "# !chmod 600 ~/.kaggle/kaggle.json"
      ]
    },
    {
      "cell_type": "code",
      "execution_count": 8,
      "metadata": {
        "id": "KmcHCAhRbq_y"
      },
      "outputs": [],
      "source": [
        "import pandas as pd\n",
        "import dask\n",
        "dask.config.set({'dataframe.query-planning': True})\n",
        "import dask.dataframe as dd\n",
        "import modin.pandas as mpd\n",
        "import os\n",
        "# {\"username\":\"yusufshamsi\",\"key\":\"94e1539e29c581b6b37d9f23c17b10fc\"}\n",
        "os.environ[\"KAGGLE_USERNAME\"] = \"yusufshamsi\"\n",
        "os.environ[\"KAGGLE_KEY\"] = \"94e1539e29c581b6b37d9f23c17b10fc\"\n",
        "import psutil\n",
        "import time\n",
        "import yaml\n",
        "import testutility as util\n",
        "import zipfile\n",
        "import kaggle"
      ]
    },
    {
      "cell_type": "code",
      "execution_count": 4,
      "metadata": {},
      "outputs": [
        {
          "name": "stdout",
          "output_type": "stream",
          "text": [
            "Downloading flight-delay-dataset-20182022.zip to /Users/Yusuf/Desktop/GitHub Projects/Data-Ingestion-Combined-Flights\n",
            "100%|█████████████████████████████████████▉| 3.73G/3.73G [10:34<00:00, 6.79MB/s]\n",
            "100%|██████████████████████████████████████| 3.73G/3.73G [10:34<00:00, 6.31MB/s]\n"
          ]
        }
      ],
      "source": [
        "!kaggle datasets download -d robikscube/flight-delay-dataset-20182022"
      ]
    },
    {
      "cell_type": "code",
      "execution_count": 9,
      "metadata": {},
      "outputs": [
        {
          "name": "stdout",
          "output_type": "stream",
          "text": [
            "Files extracted to: flight-delay-dataset-20182022\n"
          ]
        }
      ],
      "source": [
        "zip_path = 'flight-delay-dataset-20182022.zip'  # Path to your zip file\n",
        "extract_to = 'flight-delay-dataset-20182022'  # Directory where files will be extracted\n",
        "\n",
        "with zipfile.ZipFile(zip_path, 'r') as zip_ref:\n",
        "    zip_ref.extractall(extract_to)\n",
        "\n",
        "print(f\"Files extracted to: {extract_to}\")"
      ]
    },
    {
      "cell_type": "code",
      "execution_count": 10,
      "metadata": {
        "id": "JGV8gUTZhNfb"
      },
      "outputs": [],
      "source": [
        "# File path\n",
        "file_path = 'flight-delay-dataset-20182022/Combined_Flights_2021.csv'\n",
        "# file_path = '/Users/Yusuf/Desktop/Combined_Flights_2021.csv'"
      ]
    },
    {
      "cell_type": "markdown",
      "metadata": {
        "id": "8EnalQajiw8n"
      },
      "source": [
        "## Reading the file"
      ]
    },
    {
      "cell_type": "code",
      "execution_count": 11,
      "metadata": {
        "id": "Zkhfv54OhH-R"
      },
      "outputs": [],
      "source": [
        "# Function to measure CPU and memory usage\n",
        "def measure_usage(library_name, read_function, file_path):\n",
        "    # Measure before reading\n",
        "    start_cpu = psutil.cpu_percent(interval=1)\n",
        "    start_memory = psutil.virtual_memory().used / (1024 ** 3)  # Convert to GB\n",
        "    start_time = time.time()\n",
        "\n",
        "    # Read file\n",
        "    df = read_function(file_path)\n",
        "\n",
        "    # Measure after reading\n",
        "    end_cpu = psutil.cpu_percent(interval=1)\n",
        "    end_memory = psutil.virtual_memory().used / (1024 ** 3)  # Convert to GB\n",
        "    end_time = time.time()\n",
        "\n",
        "    # Calculate differences\n",
        "    cpu_usage = end_cpu - start_cpu\n",
        "    memory_usage = end_memory - start_memory\n",
        "    read_time_seconds = end_time - start_time\n",
        "    read_time_minutes = read_time_seconds / 60\n",
        "\n",
        "    # Print results\n",
        "    print(f\"{library_name} read time: {read_time_seconds:.2f} seconds ({read_time_minutes:.2f} minutes)\")\n",
        "    print(f\"{library_name} CPU usage change: {cpu_usage:.2f}%\")\n",
        "    print(f\"{library_name} Memory usage change: {memory_usage:.2f} GB\")"
      ]
    },
    {
      "cell_type": "markdown",
      "metadata": {
        "id": "LOdTT0ADfoAd"
      },
      "source": [
        "Reading with Pandas"
      ]
    },
    {
      "cell_type": "code",
      "execution_count": 12,
      "metadata": {
        "id": "PdcUKPP1eoFI"
      },
      "outputs": [
        {
          "name": "stdout",
          "output_type": "stream",
          "text": [
            "Pandas read time: 18.72 seconds (0.31 minutes)\n",
            "Pandas CPU usage change: 5.70%\n",
            "Pandas Memory usage change: 7.54 GB\n"
          ]
        }
      ],
      "source": [
        "# Measure Pandas\n",
        "measure_usage(\"Pandas\", pd.read_csv, file_path)"
      ]
    },
    {
      "cell_type": "markdown",
      "metadata": {
        "id": "YVV7WDMHfuig"
      },
      "source": [
        "Reading with Dask\n"
      ]
    },
    {
      "cell_type": "code",
      "execution_count": 13,
      "metadata": {
        "id": "1Xvm_XyXek6-"
      },
      "outputs": [
        {
          "name": "stdout",
          "output_type": "stream",
          "text": [
            "Dask read time: 13.16 seconds (0.22 minutes)\n",
            "Dask CPU usage change: 0.70%\n",
            "Dask Memory usage change: 1.94 GB\n"
          ]
        }
      ],
      "source": [
        "# For Dask since the actual data loading operation (like converting to pandas DataFrame) happens when you perform an action (like compute for Dask), the direct approach works differently.\n",
        "# For these, typically need to wrap the operation in a function if you're doing more than just reading.\n",
        "measure_usage(\"Dask\", lambda file: dd.read_csv(file).compute(), file_path)"
      ]
    },
    {
      "cell_type": "markdown",
      "metadata": {
        "id": "BCrATr0bfzY3"
      },
      "source": [
        "Reading with Modin (Pandas on Ray)"
      ]
    },
    {
      "cell_type": "code",
      "execution_count": 14,
      "metadata": {
        "id": "VKGss1_teiU2"
      },
      "outputs": [
        {
          "name": "stderr",
          "output_type": "stream",
          "text": [
            "2024-02-25 21:08:22,393\tINFO worker.py:1724 -- Started a local Ray instance.\n"
          ]
        },
        {
          "name": "stdout",
          "output_type": "stream",
          "text": [
            "Modin Ray read time: 13.11 seconds (0.22 minutes)\n",
            "Modin Ray CPU usage change: 2.50%\n",
            "Modin Ray Memory usage change: 4.74 GB\n"
          ]
        }
      ],
      "source": [
        "# Modin with Ray\n",
        "os.environ[\"MODIN_ENGINE\"] = \"ray\"  # Use Ray as the backend\n",
        "measure_usage(\"Modin Ray\", mpd.read_csv, file_path)\n"
      ]
    },
    {
      "cell_type": "markdown",
      "metadata": {
        "id": "QZOSbnvVf6xR"
      },
      "source": [
        "Reading with Modin (Pandas on Ray)"
      ]
    },
    {
      "cell_type": "code",
      "execution_count": 15,
      "metadata": {
        "id": "_U07U4XBfWG6"
      },
      "outputs": [
        {
          "name": "stderr",
          "output_type": "stream",
          "text": [
            "\u001b[36m(raylet)\u001b[0m Spilled 2525 MiB, 21 objects, write throughput 1699 MiB/s. Set RAY_verbose_spill_logs=0 to disable this message.\n"
          ]
        },
        {
          "name": "stdout",
          "output_type": "stream",
          "text": [
            "Modin Dask read time: 8.93 seconds (0.15 minutes)\n",
            "Modin Dask CPU usage change: 12.90%\n",
            "Modin Dask Memory usage change: -1.25 GB\n"
          ]
        }
      ],
      "source": [
        "# Modin with Dask\n",
        "os.environ[\"MODIN_ENGINE\"] = \"dask\"  # Use Dask as the backend\n",
        "measure_usage(\"Modin Dask\", mpd.read_csv, file_path)"
      ]
    },
    {
      "cell_type": "markdown",
      "metadata": {
        "id": "t0fEStHqpPZe"
      },
      "source": [
        "# Cleaning Data"
      ]
    },
    {
      "cell_type": "code",
      "execution_count": 16,
      "metadata": {
        "id": "EnqeZka0ozBW"
      },
      "outputs": [],
      "source": [
        "def clean_column_names(df):\n",
        "    df.columns = df.columns.str.strip()\n",
        "    df.columns = df.columns.str.replace(' ', '_', regex=True)\n",
        "    df.columns = df.columns.str.replace('[^\\\\w\\\\s]', '', regex=True)\n",
        "    return df"
      ]
    },
    {
      "cell_type": "code",
      "execution_count": 17,
      "metadata": {},
      "outputs": [
        {
          "name": "stderr",
          "output_type": "stream",
          "text": [
            "\u001b[36m(raylet)\u001b[0m Spilled 5051 MiB, 44 objects, write throughput 2693 MiB/s.\n"
          ]
        }
      ],
      "source": [
        "#As Reading with Modin (Pandas on Ray) took the least time we will load the data with that\n",
        "# Modin with Dask\n",
        "# os.environ[\"MODIN_ENGINE\"] = \"dask\"  # Use Dask as the backend\n",
        "df = mpd.read_csv(file_path)"
      ]
    },
    {
      "cell_type": "code",
      "execution_count": 18,
      "metadata": {
        "id": "FggEamHvpVWN"
      },
      "outputs": [
        {
          "name": "stdout",
          "output_type": "stream",
          "text": [
            "Index(['FlightDate', 'Airline', 'Origin', 'Dest', 'Cancelled', 'Diverted',\n",
            "       'CRSDepTime', 'DepTime', 'DepDelayMinutes', 'DepDelay', 'ArrTime',\n",
            "       'ArrDelayMinutes', 'AirTime', 'CRSElapsedTime', 'ActualElapsedTime',\n",
            "       'Distance', 'Year', 'Quarter', 'Month', 'DayofMonth', 'DayOfWeek',\n",
            "       'Marketing_Airline_Network', 'Operated_or_Branded_Code_Share_Partners',\n",
            "       'DOT_ID_Marketing_Airline', 'IATA_Code_Marketing_Airline',\n",
            "       'Flight_Number_Marketing_Airline', 'Operating_Airline',\n",
            "       'DOT_ID_Operating_Airline', 'IATA_Code_Operating_Airline',\n",
            "       'Tail_Number', 'Flight_Number_Operating_Airline', 'OriginAirportID',\n",
            "       'OriginAirportSeqID', 'OriginCityMarketID', 'OriginCityName',\n",
            "       'OriginState', 'OriginStateFips', 'OriginStateName', 'OriginWac',\n",
            "       'DestAirportID', 'DestAirportSeqID', 'DestCityMarketID', 'DestCityName',\n",
            "       'DestState', 'DestStateFips', 'DestStateName', 'DestWac', 'DepDel15',\n",
            "       'DepartureDelayGroups', 'DepTimeBlk', 'TaxiOut', 'WheelsOff',\n",
            "       'WheelsOn', 'TaxiIn', 'CRSArrTime', 'ArrDelay', 'ArrDel15',\n",
            "       'ArrivalDelayGroups', 'ArrTimeBlk', 'DistanceGroup',\n",
            "       'DivAirportLandings'],\n",
            "      dtype='object') \n",
            "\n",
            "\n"
          ]
        },
        {
          "data": {
            "text/html": [
              "<div>\n",
              "<style scoped>\n",
              "    .dataframe tbody tr th:only-of-type {\n",
              "        vertical-align: middle;\n",
              "    }\n",
              "\n",
              "    .dataframe tbody tr th {\n",
              "        vertical-align: top;\n",
              "    }\n",
              "\n",
              "    .dataframe thead th {\n",
              "        text-align: right;\n",
              "    }\n",
              "</style>\n",
              "<table border=\"1\" class=\"dataframe\">\n",
              "  <thead>\n",
              "    <tr style=\"text-align: right;\">\n",
              "      <th></th>\n",
              "      <th>FlightDate</th>\n",
              "      <th>Airline</th>\n",
              "      <th>Origin</th>\n",
              "      <th>Dest</th>\n",
              "      <th>Cancelled</th>\n",
              "      <th>Diverted</th>\n",
              "      <th>CRSDepTime</th>\n",
              "      <th>DepTime</th>\n",
              "      <th>DepDelayMinutes</th>\n",
              "      <th>DepDelay</th>\n",
              "      <th>...</th>\n",
              "      <th>WheelsOff</th>\n",
              "      <th>WheelsOn</th>\n",
              "      <th>TaxiIn</th>\n",
              "      <th>CRSArrTime</th>\n",
              "      <th>ArrDelay</th>\n",
              "      <th>ArrDel15</th>\n",
              "      <th>ArrivalDelayGroups</th>\n",
              "      <th>ArrTimeBlk</th>\n",
              "      <th>DistanceGroup</th>\n",
              "      <th>DivAirportLandings</th>\n",
              "    </tr>\n",
              "  </thead>\n",
              "  <tbody>\n",
              "    <tr>\n",
              "      <th>0</th>\n",
              "      <td>2021-03-03</td>\n",
              "      <td>SkyWest Airlines Inc.</td>\n",
              "      <td>SGU</td>\n",
              "      <td>PHX</td>\n",
              "      <td>False</td>\n",
              "      <td>False</td>\n",
              "      <td>724</td>\n",
              "      <td>714.0</td>\n",
              "      <td>0.0</td>\n",
              "      <td>-10.0</td>\n",
              "      <td>...</td>\n",
              "      <td>724.0</td>\n",
              "      <td>813.0</td>\n",
              "      <td>5.0</td>\n",
              "      <td>843</td>\n",
              "      <td>-25.0</td>\n",
              "      <td>0.0</td>\n",
              "      <td>-2.0</td>\n",
              "      <td>0800-0859</td>\n",
              "      <td>2</td>\n",
              "      <td>0.0</td>\n",
              "    </tr>\n",
              "    <tr>\n",
              "      <th>1</th>\n",
              "      <td>2021-03-03</td>\n",
              "      <td>SkyWest Airlines Inc.</td>\n",
              "      <td>PHX</td>\n",
              "      <td>SGU</td>\n",
              "      <td>False</td>\n",
              "      <td>False</td>\n",
              "      <td>922</td>\n",
              "      <td>917.0</td>\n",
              "      <td>0.0</td>\n",
              "      <td>-5.0</td>\n",
              "      <td>...</td>\n",
              "      <td>940.0</td>\n",
              "      <td>1028.0</td>\n",
              "      <td>3.0</td>\n",
              "      <td>1040</td>\n",
              "      <td>-9.0</td>\n",
              "      <td>0.0</td>\n",
              "      <td>-1.0</td>\n",
              "      <td>1000-1059</td>\n",
              "      <td>2</td>\n",
              "      <td>0.0</td>\n",
              "    </tr>\n",
              "    <tr>\n",
              "      <th>2</th>\n",
              "      <td>2021-03-03</td>\n",
              "      <td>SkyWest Airlines Inc.</td>\n",
              "      <td>MHT</td>\n",
              "      <td>ORD</td>\n",
              "      <td>False</td>\n",
              "      <td>False</td>\n",
              "      <td>1330</td>\n",
              "      <td>1321.0</td>\n",
              "      <td>0.0</td>\n",
              "      <td>-9.0</td>\n",
              "      <td>...</td>\n",
              "      <td>1336.0</td>\n",
              "      <td>1445.0</td>\n",
              "      <td>16.0</td>\n",
              "      <td>1530</td>\n",
              "      <td>-29.0</td>\n",
              "      <td>0.0</td>\n",
              "      <td>-2.0</td>\n",
              "      <td>1500-1559</td>\n",
              "      <td>4</td>\n",
              "      <td>0.0</td>\n",
              "    </tr>\n",
              "    <tr>\n",
              "      <th>3</th>\n",
              "      <td>2021-03-03</td>\n",
              "      <td>SkyWest Airlines Inc.</td>\n",
              "      <td>DFW</td>\n",
              "      <td>TRI</td>\n",
              "      <td>False</td>\n",
              "      <td>False</td>\n",
              "      <td>1645</td>\n",
              "      <td>1636.0</td>\n",
              "      <td>0.0</td>\n",
              "      <td>-9.0</td>\n",
              "      <td>...</td>\n",
              "      <td>1703.0</td>\n",
              "      <td>1955.0</td>\n",
              "      <td>7.0</td>\n",
              "      <td>2010</td>\n",
              "      <td>-8.0</td>\n",
              "      <td>0.0</td>\n",
              "      <td>-1.0</td>\n",
              "      <td>2000-2059</td>\n",
              "      <td>4</td>\n",
              "      <td>0.0</td>\n",
              "    </tr>\n",
              "    <tr>\n",
              "      <th>4</th>\n",
              "      <td>2021-03-03</td>\n",
              "      <td>SkyWest Airlines Inc.</td>\n",
              "      <td>PHX</td>\n",
              "      <td>BFL</td>\n",
              "      <td>False</td>\n",
              "      <td>False</td>\n",
              "      <td>1844</td>\n",
              "      <td>1838.0</td>\n",
              "      <td>0.0</td>\n",
              "      <td>-6.0</td>\n",
              "      <td>...</td>\n",
              "      <td>1851.0</td>\n",
              "      <td>1900.0</td>\n",
              "      <td>3.0</td>\n",
              "      <td>1925</td>\n",
              "      <td>-22.0</td>\n",
              "      <td>0.0</td>\n",
              "      <td>-2.0</td>\n",
              "      <td>1900-1959</td>\n",
              "      <td>2</td>\n",
              "      <td>0.0</td>\n",
              "    </tr>\n",
              "  </tbody>\n",
              "</table>\n",
              "<p>5 rows x 61 columns</p>\n",
              "</div>"
            ],
            "text/plain": [
              "   FlightDate                Airline Origin Dest  Cancelled  Diverted  \\\n",
              "0  2021-03-03  SkyWest Airlines Inc.    SGU  PHX      False     False   \n",
              "1  2021-03-03  SkyWest Airlines Inc.    PHX  SGU      False     False   \n",
              "2  2021-03-03  SkyWest Airlines Inc.    MHT  ORD      False     False   \n",
              "3  2021-03-03  SkyWest Airlines Inc.    DFW  TRI      False     False   \n",
              "4  2021-03-03  SkyWest Airlines Inc.    PHX  BFL      False     False   \n",
              "\n",
              "   CRSDepTime  DepTime  DepDelayMinutes  DepDelay  ...  WheelsOff  WheelsOn  \\\n",
              "0         724    714.0              0.0     -10.0  ...      724.0     813.0   \n",
              "1         922    917.0              0.0      -5.0  ...      940.0    1028.0   \n",
              "2        1330   1321.0              0.0      -9.0  ...     1336.0    1445.0   \n",
              "3        1645   1636.0              0.0      -9.0  ...     1703.0    1955.0   \n",
              "4        1844   1838.0              0.0      -6.0  ...     1851.0    1900.0   \n",
              "\n",
              "   TaxiIn  CRSArrTime  ArrDelay  ArrDel15  ArrivalDelayGroups  ArrTimeBlk  \\\n",
              "0     5.0         843     -25.0       0.0                -2.0   0800-0859   \n",
              "1     3.0        1040      -9.0       0.0                -1.0   1000-1059   \n",
              "2    16.0        1530     -29.0       0.0                -2.0   1500-1559   \n",
              "3     7.0        2010      -8.0       0.0                -1.0   2000-2059   \n",
              "4     3.0        1925     -22.0       0.0                -2.0   1900-1959   \n",
              "\n",
              "  DistanceGroup  DivAirportLandings  \n",
              "0             2                 0.0  \n",
              "1             2                 0.0  \n",
              "2             4                 0.0  \n",
              "3             4                 0.0  \n",
              "4             2                 0.0  \n",
              "\n",
              "[5 rows x 61 columns]"
            ]
          },
          "metadata": {},
          "output_type": "display_data"
        },
        {
          "data": {
            "text/plain": [
              "'\\n\\n'"
            ]
          },
          "metadata": {},
          "output_type": "display_data"
        },
        {
          "name": "stdout",
          "output_type": "stream",
          "text": [
            "<class 'modin.pandas.dataframe.DataFrame'>\n",
            "RangeIndex: 6311871 entries, 0 to 6311870\n",
            "Data columns (total 61 columns):\n",
            " #   Column                                   Dtype  \n",
            "---  ------                                   -----  \n",
            " 0   FlightDate                               object \n",
            " 1   Airline                                  object \n",
            " 2   Origin                                   object \n",
            " 3   Dest                                     object \n",
            " 4   Cancelled                                bool   \n",
            " 5   Diverted                                 bool   \n",
            " 6   CRSDepTime                               int64  \n",
            " 7   DepTime                                  float64\n",
            " 8   DepDelayMinutes                          float64\n",
            " 9   DepDelay                                 float64\n",
            " 10  ArrTime                                  float64\n",
            " 11  ArrDelayMinutes                          float64\n",
            " 12  AirTime                                  float64\n",
            " 13  CRSElapsedTime                           float64\n",
            " 14  ActualElapsedTime                        float64\n",
            " 15  Distance                                 float64\n",
            " 16  Year                                     int64  \n",
            " 17  Quarter                                  int64  \n",
            " 18  Month                                    int64  \n",
            " 19  DayofMonth                               int64  \n",
            " 20  DayOfWeek                                int64  \n",
            " 21  Marketing_Airline_Network                object \n",
            " 22  Operated_or_Branded_Code_Share_Partners  object \n",
            " 23  DOT_ID_Marketing_Airline                 int64  \n",
            " 24  IATA_Code_Marketing_Airline              object \n",
            " 25  Flight_Number_Marketing_Airline          int64  \n",
            " 26  Operating_Airline                        object \n",
            " 27  DOT_ID_Operating_Airline                 int64  \n",
            " 28  IATA_Code_Operating_Airline              object \n",
            " 29  Tail_Number                              object \n",
            " 30  Flight_Number_Operating_Airline          int64  \n",
            " 31  OriginAirportID                          int64  \n",
            " 32  OriginAirportSeqID                       int64  \n",
            " 33  OriginCityMarketID                       int64  \n",
            " 34  OriginCityName                           object \n",
            " 35  OriginState                              object \n",
            " 36  OriginStateFips                          int64  \n",
            " 37  OriginStateName                          object \n",
            " 38  OriginWac                                int64  \n",
            " 39  DestAirportID                            int64  \n",
            " 40  DestAirportSeqID                         int64  \n",
            " 41  DestCityMarketID                         int64  \n",
            " 42  DestCityName                             object \n",
            " 43  DestState                                object \n",
            " 44  DestStateFips                            int64  \n",
            " 45  DestStateName                            object \n",
            " 46  DestWac                                  int64  \n",
            " 47  DepDel15                                 float64\n",
            " 48  DepartureDelayGroups                     float64\n",
            " 49  DepTimeBlk                               object \n",
            " 50  TaxiOut                                  float64\n",
            " 51  WheelsOff                                float64\n",
            " 52  WheelsOn                                 float64\n",
            " 53  TaxiIn                                   float64\n",
            " 54  CRSArrTime                               int64  \n",
            " 55  ArrDelay                                 float64\n",
            " 56  ArrDel15                                 float64\n",
            " 57  ArrivalDelayGroups                       float64\n",
            " 58  ArrTimeBlk                               object \n",
            " 59  DistanceGroup                            int64  \n",
            " 60  DivAirportLandings                       float64\n",
            "dtypes: bool(2), float64(19), int64(22), object(18)\n",
            "memory usage: 2.8+ GB\n"
          ]
        },
        {
          "data": {
            "text/plain": [
              "None"
            ]
          },
          "metadata": {},
          "output_type": "display_data"
        }
      ],
      "source": [
        "# Apply the function to your DataFrame\n",
        "df_cleaned = clean_column_names(df)\n",
        "\n",
        "# Display the cleaned column names\n",
        "print(df_cleaned.columns, '\\n\\n')\n",
        "display(df_cleaned.head(), '\\n\\n')\n",
        "display(df_cleaned.info())"
      ]
    },
    {
      "cell_type": "markdown",
      "metadata": {
        "id": "LgRC3Jj0si21"
      },
      "source": [
        "# YAML"
      ]
    },
    {
      "cell_type": "code",
      "execution_count": 19,
      "metadata": {},
      "outputs": [
        {
          "data": {
            "text/plain": [
              "(6311871, 61)"
            ]
          },
          "execution_count": 19,
          "metadata": {},
          "output_type": "execute_result"
        }
      ],
      "source": [
        "df_cleaned.shape"
      ]
    },
    {
      "cell_type": "code",
      "execution_count": 20,
      "metadata": {
        "id": "Kz18fWIwskQ2"
      },
      "outputs": [
        {
          "name": "stdout",
          "output_type": "stream",
          "text": [
            "Overwriting file.yaml\n"
          ]
        }
      ],
      "source": [
        "%%writefile file.yaml\n",
        "file_type: csv\n",
        "dataset_name: Combined_Flights\n",
        "file_name: Combined_Flights_2021.csv\n",
        "inbound_delimiter: \",\"\n",
        "outbound_delimiter: \"|\"\n",
        "skip_leading_rows: 1\n",
        "number_rows: 6311871\n",
        "number_columns: 61\n",
        "columns:\n",
        "    - FlightDate\n",
        "    - Airline\n",
        "    - Origin\n",
        "    - Dest\n",
        "    - Cancelled\n",
        "    - Diverted\n",
        "    - CRSDepTime\n",
        "    - DepTime\n",
        "    - DepDelayMinutes\n",
        "    - DepDelay\n",
        "    - ArrTime\n",
        "    - ArrDelayMinutes\n",
        "    - AirTime\n",
        "    - CRSElapsedTime\n",
        "    - ActualElapsedTime\n",
        "    - Distance\n",
        "    - Year\n",
        "    - Quarter\n",
        "    - Month\n",
        "    - DayofMonth\n",
        "    - DayOfWeek\n",
        "    - Marketing_Airline_Network\n",
        "    - Operated_or_Branded_Code_Share_Partners\n",
        "    - DOT_ID_Marketing_Airline\n",
        "    - IATA_Code_Marketing_Airline\n",
        "    - Flight_Number_Marketing_Airline\n",
        "    - Operating_Airline\n",
        "    - DOT_ID_Operating_Airline\n",
        "    - IATA_Code_Operating_Airline\n",
        "    - Tail_Number\n",
        "    - Flight_Number_Operating_Airline\n",
        "    - OriginAirportID\n",
        "    - OriginAirportSeqID\n",
        "    - OriginCityMarketID\n",
        "    - OriginCityName\n",
        "    - OriginState\n",
        "    - OriginStateFips\n",
        "    - OriginStateName\n",
        "    - OriginWac\n",
        "    - DestAirportID\n",
        "    - DestAirportSeqID\n",
        "    - DestCityMarketID\n",
        "    - DestCityName\n",
        "    - DestState\n",
        "    - DestStateFips\n",
        "    - DestStateName\n",
        "    - DestWac\n",
        "    - DepDel15\n",
        "    - DepartureDelayGroups\n",
        "    - DepTimeBlk\n",
        "    - TaxiOut\n",
        "    - WheelsOff\n",
        "    - WheelsOn\n",
        "    - TaxiIn\n",
        "    - CRSArrTime\n",
        "    - ArrDelay\n",
        "    - ArrDel15\n",
        "    - ArrivalDelayGroups\n",
        "    - ArrTimeBlk\n",
        "    - DistanceGroup\n",
        "    - DivAirportLandings\n"
      ]
    },
    {
      "cell_type": "code",
      "execution_count": 21,
      "metadata": {
        "id": "0c0f9A4NslT5"
      },
      "outputs": [
        {
          "name": "stdout",
          "output_type": "stream",
          "text": [
            "Read Separator: ,\n",
            "Write Separator: |\n",
            "Columns: ['FlightDate', 'Airline', 'Origin', 'Dest', 'Cancelled', 'Diverted', 'CRSDepTime', 'DepTime', 'DepDelayMinutes', 'DepDelay', 'ArrTime', 'ArrDelayMinutes', 'AirTime', 'CRSElapsedTime', 'ActualElapsedTime', 'Distance', 'Year', 'Quarter', 'Month', 'DayofMonth', 'DayOfWeek', 'Marketing_Airline_Network', 'Operated_or_Branded_Code_Share_Partners', 'DOT_ID_Marketing_Airline', 'IATA_Code_Marketing_Airline', 'Flight_Number_Marketing_Airline', 'Operating_Airline', 'DOT_ID_Operating_Airline', 'IATA_Code_Operating_Airline', 'Tail_Number', 'Flight_Number_Operating_Airline', 'OriginAirportID', 'OriginAirportSeqID', 'OriginCityMarketID', 'OriginCityName', 'OriginState', 'OriginStateFips', 'OriginStateName', 'OriginWac', 'DestAirportID', 'DestAirportSeqID', 'DestCityMarketID', 'DestCityName', 'DestState', 'DestStateFips', 'DestStateName', 'DestWac', 'DepDel15', 'DepartureDelayGroups', 'DepTimeBlk', 'TaxiOut', 'WheelsOff', 'WheelsOn', 'TaxiIn', 'CRSArrTime', 'ArrDelay', 'ArrDel15', 'ArrivalDelayGroups', 'ArrTimeBlk', 'DistanceGroup', 'DivAirportLandings']\n"
          ]
        }
      ],
      "source": [
        "# Load the YAML schema\n",
        "config_data = util.read_config_file(\"file.yaml\")\n",
        "\n",
        "# Access file settings and column names from the schema\n",
        "read_separator = config_data['inbound_delimiter']\n",
        "write_separator = config_data['outbound_delimiter']\n",
        "columns = config_data['columns']\n",
        "\n",
        "print(f\"Read Separator: {read_separator}\")\n",
        "print(f\"Write Separator: {write_separator}\")\n",
        "print(f\"Columns: {columns}\")\n"
      ]
    },
    {
      "cell_type": "markdown",
      "metadata": {
        "id": "j7bgntm6t_EQ"
      },
      "source": [
        "# Comparing Schema File to DF"
      ]
    },
    {
      "cell_type": "code",
      "execution_count": 22,
      "metadata": {
        "id": "PpLAkikruHUl"
      },
      "outputs": [
        {
          "name": "stdout",
          "output_type": "stream",
          "text": [
            "column name and column length validation passed\n"
          ]
        },
        {
          "data": {
            "text/plain": [
              "1"
            ]
          },
          "execution_count": 22,
          "metadata": {},
          "output_type": "execute_result"
        }
      ],
      "source": [
        "util.col_header_val(df_cleaned, config_data)"
      ]
    },
    {
      "cell_type": "code",
      "execution_count": 23,
      "metadata": {
        "id": "DnkyJ5iuuVmM"
      },
      "outputs": [
        {
          "name": "stdout",
          "output_type": "stream",
          "text": [
            "Columns of DF are: Index(['flightdate', 'airline', 'origin', 'dest', 'cancelled', 'diverted',\n",
            "       'crsdeptime', 'deptime', 'depdelayminutes', 'depdelay', 'arrtime',\n",
            "       'arrdelayminutes', 'airtime', 'crselapsedtime', 'actualelapsedtime',\n",
            "       'distance', 'year', 'quarter', 'month', 'dayofmonth', 'dayofweek',\n",
            "       'marketing_airline_network', 'operated_or_branded_code_share_partners',\n",
            "       'dot_id_marketing_airline', 'iata_code_marketing_airline',\n",
            "       'flight_number_marketing_airline', 'operating_airline',\n",
            "       'dot_id_operating_airline', 'iata_code_operating_airline',\n",
            "       'tail_number', 'flight_number_operating_airline', 'originairportid',\n",
            "       'originairportseqid', 'origincitymarketid', 'origincityname',\n",
            "       'originstate', 'originstatefips', 'originstatename', 'originwac',\n",
            "       'destairportid', 'destairportseqid', 'destcitymarketid', 'destcityname',\n",
            "       'deststate', 'deststatefips', 'deststatename', 'destwac', 'depdel15',\n",
            "       'departuredelaygroups', 'deptimeblk', 'taxiout', 'wheelsoff',\n",
            "       'wheelson', 'taxiin', 'crsarrtime', 'arrdelay', 'arrdel15',\n",
            "       'arrivaldelaygroups', 'arrtimeblk', 'distancegroup',\n",
            "       'divairportlandings'],\n",
            "      dtype='object')\n",
            "Columns of YAML are: ['FlightDate', 'Airline', 'Origin', 'Dest', 'Cancelled', 'Diverted', 'CRSDepTime', 'DepTime', 'DepDelayMinutes', 'DepDelay', 'ArrTime', 'ArrDelayMinutes', 'AirTime', 'CRSElapsedTime', 'ActualElapsedTime', 'Distance', 'Year', 'Quarter', 'Month', 'DayofMonth', 'DayOfWeek', 'Marketing_Airline_Network', 'Operated_or_Branded_Code_Share_Partners', 'DOT_ID_Marketing_Airline', 'IATA_Code_Marketing_Airline', 'Flight_Number_Marketing_Airline', 'Operating_Airline', 'DOT_ID_Operating_Airline', 'IATA_Code_Operating_Airline', 'Tail_Number', 'Flight_Number_Operating_Airline', 'OriginAirportID', 'OriginAirportSeqID', 'OriginCityMarketID', 'OriginCityName', 'OriginState', 'OriginStateFips', 'OriginStateName', 'OriginWac', 'DestAirportID', 'DestAirportSeqID', 'DestCityMarketID', 'DestCityName', 'DestState', 'DestStateFips', 'DestStateName', 'DestWac', 'DepDel15', 'DepartureDelayGroups', 'DepTimeBlk', 'TaxiOut', 'WheelsOff', 'WheelsOn', 'TaxiIn', 'CRSArrTime', 'ArrDelay', 'ArrDel15', 'ArrivalDelayGroups', 'ArrTimeBlk', 'DistanceGroup', 'DivAirportLandings']\n"
          ]
        }
      ],
      "source": [
        "print(\"Columns of DF are:\" , df_cleaned.columns)\n",
        "print(\"Columns of YAML are:\" , config_data['columns'])"
      ]
    },
    {
      "cell_type": "code",
      "execution_count": 24,
      "metadata": {
        "id": "HuWzngshupDU"
      },
      "outputs": [
        {
          "name": "stdout",
          "output_type": "stream",
          "text": [
            "column name and column length validation passed\n",
            "col validation passed\n"
          ]
        }
      ],
      "source": [
        "if util.col_header_val(df, config_data) == 0:\n",
        "    print(\"validation failed\")\n",
        "    # write code to reject the file\n",
        "else:\n",
        "    print(\"col validation passed\")\n",
        "    # write the code to perform further action\n",
        "    # in the pipleine"
      ]
    },
    {
      "cell_type": "markdown",
      "metadata": {},
      "source": [
        "# Write DataFrame to Pipe-Separated GZ File"
      ]
    },
    {
      "cell_type": "code",
      "execution_count": 25,
      "metadata": {},
      "outputs": [
        {
          "name": "stderr",
          "output_type": "stream",
          "text": [
            "UserWarning: `to_csv` is not currently supported by PandasOnRay, defaulting to pandas implementation.\n",
            "Please refer to https://modin.readthedocs.io/en/stable/supported_apis/defaulting_to_pandas.html for explanation.\n",
            "\u001b[36m(raylet)\u001b[0m Spilled 8714 MiB, 84 objects, write throughput 2611 MiB/s.\n"
          ]
        }
      ],
      "source": [
        "# Define the output file path with .gz extension to indicate gzip compression\n",
        "output_file_path = 'Cleaned_Combined_Flights_2021.csv.gz'\n",
        "\n",
        "# Write the DataFrame to a gzipped CSV with pipe separator\n",
        "df_cleaned.to_csv(output_file_path, sep='|', index=False, compression='gzip')\n"
      ]
    },
    {
      "cell_type": "code",
      "execution_count": 32,
      "metadata": {},
      "outputs": [
        {
          "name": "stdout",
          "output_type": "stream",
          "text": [
            "Total number of rows: 6175062\n",
            "Total number of columns: 1\n",
            "File size: 301.33 MB\n"
          ]
        }
      ],
      "source": [
        "file_path = 'Cleaned_Combined_Flights_2021.csv.gz'\n",
        "\n",
        "# Read the CSV file into a DataFrame\n",
        "try:\n",
        "    df = pd.read_csv(file_path, compression='gzip', on_bad_lines='skip')\n",
        "except Exception as e:\n",
        "    print(e)\n",
        "\n",
        "# Calculate total number of rows and columns\n",
        "total_rows = len(df)\n",
        "total_columns = len(df.columns)\n",
        "\n",
        "# Get the file size in megabytes\n",
        "file_size_bytes = os.path.getsize(file_path)\n",
        "file_size_mb = file_size_bytes / (1024 * 1024)  # Convert bytes to megabytes\n",
        "\n",
        "# Print the summary\n",
        "print(f\"Total number of rows: {total_rows}\")\n",
        "print(f\"Total number of columns: {total_columns}\")\n",
        "print(f\"File size: {file_size_mb:.2f} MB\")"
      ]
    },
    {
      "cell_type": "code",
      "execution_count": null,
      "metadata": {},
      "outputs": [],
      "source": []
    }
  ],
  "metadata": {
    "colab": {
      "authorship_tag": "ABX9TyMOs1hXfbYIMT9Q8o5lKYP+",
      "include_colab_link": true,
      "provenance": []
    },
    "kernelspec": {
      "display_name": "Python 3",
      "name": "python3"
    },
    "language_info": {
      "codemirror_mode": {
        "name": "ipython",
        "version": 3
      },
      "file_extension": ".py",
      "mimetype": "text/x-python",
      "name": "python",
      "nbconvert_exporter": "python",
      "pygments_lexer": "ipython3",
      "version": "3.11.0"
    }
  },
  "nbformat": 4,
  "nbformat_minor": 0
}
